{
 "cells": [
  {
   "cell_type": "code",
   "execution_count": 1,
   "id": "6cf0dd29-ae02-46f0-8542-f132a3af2654",
   "metadata": {},
   "outputs": [],
   "source": [
    "#include<iostream>\n",
    "#include<string>\n",
    "\n",
    "//using namespace std;"
   ]
  },
  {
   "cell_type": "code",
   "execution_count": 2,
   "id": "f9b0eb53-8247-478d-90dd-45e45eaf9df9",
   "metadata": {},
   "outputs": [
    {
     "name": "stdout",
     "output_type": "stream",
     "text": [
      "10  Hello"
     ]
    }
   ],
   "source": [
    "int x =10;\n",
    "std::cout << x;\n",
    "std::cout << \"  Hello\";"
   ]
  },
  {
   "cell_type": "code",
   "execution_count": 3,
   "id": "172d5aca-342f-4939-b54b-3bf84592b959",
   "metadata": {},
   "outputs": [
    {
     "name": "stderr",
     "output_type": "stream",
     "text": [
      "\u001b[1minput_line_10:1:10: \u001b[0m\u001b[0;1;31mfatal error: \u001b[0m\u001b[1m'torch/torch.h' file not found\u001b[0m\n",
      "#include <torch/torch.h>\n",
      "\u001b[0;1;32m         ^~~~~~~~~~~~~~~\n",
      "\u001b[0m"
     ]
    },
    {
     "ename": "Interpreter Error",
     "evalue": "",
     "output_type": "error",
     "traceback": [
      "Interpreter Error: "
     ]
    }
   ],
   "source": [
    "#include <torch/torch.h>"
   ]
  },
  {
   "cell_type": "code",
   "execution_count": 1,
   "id": "77e6ae7b-21c7-4d0d-8ff1-650560f5f58c",
   "metadata": {},
   "outputs": [
    {
     "name": "stdout",
     "output_type": "stream",
     "text": [
      "torch\n"
     ]
    }
   ],
   "source": [
    "!ls ../libs/libtorch/include/torch/csrc/api/include/"
   ]
  },
  {
   "cell_type": "code",
   "execution_count": 2,
   "id": "a751ddbe-2ff9-43bc-8893-13d0ce816d1d",
   "metadata": {},
   "outputs": [
    {
     "name": "stdout",
     "output_type": "stream",
     "text": [
      "../libs/libtorch/lib/libtorchbind_test.so\n",
      "../libs/libtorch/lib/libtorch_cpu.so\n",
      "../libs/libtorch/lib/libtorch_global_deps.so\n",
      "../libs/libtorch/lib/libtorch_python.so\n",
      "../libs/libtorch/lib/libtorch.so\n"
     ]
    }
   ],
   "source": [
    "!ls ../libs/libtorch/lib/libtorch*.so"
   ]
  },
  {
   "cell_type": "code",
   "execution_count": 1,
   "id": "fff2680f-8a2b-43a8-a0cb-a33eeba9e4e3",
   "metadata": {},
   "outputs": [
    {
     "name": "stdout",
     "output_type": "stream",
     "text": [
      "Added paths"
     ]
    }
   ],
   "source": [
    "#include<iostream>\n",
    "#include<string>\n",
    "\n",
    "//using namespace std;    //NOTE: dont expose std namespace, it \n",
    "\n",
    "// add headers\n",
    "#pragma cling add_include_path(\"../libs/libtorch/include/torch/csrc/api/include\")\n",
    "#pragma cling add_include_path(\"../libs/libtorch/include/\")\n",
    "// add precompiled libtorch*.so files\n",
    "#pragma cling add_library_path(\"../libs/libtorch/lib/\")\n",
    "std::cout << \"Added paths\";"
   ]
  },
  {
   "cell_type": "code",
   "execution_count": null,
   "id": "17770302-abe0-45b8-9480-a67bf7806268",
   "metadata": {},
   "outputs": [],
   "source": [
    "// load libtorch   -- this causes LLVM out of memory\n",
    "#pragma cling load(\"libtorch.so\")\n",
    "std::cout << \"Loaded\";"
   ]
  },
  {
   "cell_type": "code",
   "execution_count": 2,
   "id": "94ada93b-a2eb-499a-8c2c-72305df87591",
   "metadata": {},
   "outputs": [
    {
     "name": "stdout",
     "output_type": "stream",
     "text": [
      "Hello World"
     ]
    }
   ],
   "source": [
    "#include <iostream>\n",
    "#include <torch/torch.h>\n",
    "//using namespace std;\n",
    "\n",
    "std::cout << \"Hello World\";"
   ]
  },
  {
   "cell_type": "code",
   "execution_count": null,
   "id": "1595a58a-f08f-4891-ba2d-05afdb77d750",
   "metadata": {},
   "outputs": [
    {
     "name": "stderr",
     "output_type": "stream",
     "text": [
      "IncrementalExecutor::executeFunction: symbol '_ZN3c106detail14torchCheckFailEPKcS2_jRKNSt7__cxx1112basic_stringIcSt11char_traitsIcESaIcEEE' unresolved while linking function '_GLOBAL__sub_I_cling_module_9'!\n",
      "You are probably missing the definition of c10::detail::torchCheckFail(char const*, char const*, unsigned int, std::__cxx11::basic_string<char, std::char_traits<char>, std::allocator<char> > const&)\n",
      "Maybe you need to load the corresponding shared library?\n",
      "IncrementalExecutor::executeFunction: symbol '_ZN3c106detail14torchCheckFailEPKcS2_jS2_' unresolved while linking function '_GLOBAL__sub_I_cling_module_9'!\n",
      "You are probably missing the definition of c10::detail::torchCheckFail(char const*, char const*, unsigned int, char const*)\n",
      "Maybe you need to load the corresponding shared library?\n",
      "IncrementalExecutor::executeFunction: symbol '_ZN3c106detail23torchInternalAssertFailEPKcS2_jS2_S2_' unresolved while linking function '_GLOBAL__sub_I_cling_module_9'!\n",
      "You are probably missing the definition of c10::detail::torchInternalAssertFail(char const*, char const*, unsigned int, char const*, char const*)\n",
      "Maybe you need to load the corresponding shared library?\n",
      "IncrementalExecutor::executeFunction: symbol '_ZN3c104impl23ExcludeDispatchKeyGuardD1Ev' unresolved while linking function '_GLOBAL__sub_I_cling_module_9'!\n",
      "You are probably missing the definition of c10::impl::ExcludeDispatchKeyGuard::~ExcludeDispatchKeyGuard()\n",
      "Maybe you need to load the corresponding shared library?\n",
      "IncrementalExecutor::executeFunction: symbol '_ZN3c106detail23torchInternalAssertFailEPKcS2_jS2_RKNSt7__cxx1112basic_stringIcSt11char_traitsIcESaIcEEE' unresolved while linking function '_GLOBAL__sub_I_cling_module_9'!\n",
      "You are probably missing the definition of c10::detail::torchInternalAssertFail(char const*, char const*, unsigned int, char const*, std::__cxx11::basic_string<char, std::char_traits<char>, std::allocator<char> > const&)\n",
      "Maybe you need to load the corresponding shared library?\n",
      "IncrementalExecutor::executeFunction: symbol '_ZN3c1019UndefinedTensorImpl10_singletonE' unresolved while linking function '_GLOBAL__sub_I_cling_module_9'!\n",
      "You are probably missing the definition of c10::UndefinedTensorImpl::_singleton\n",
      "Maybe you need to load the corresponding shared library?\n",
      "IncrementalExecutor::executeFunction: symbol '_ZN6caffe28TypeMeta26error_unsupported_typemetaES0_' unresolved while linking function '_GLOBAL__sub_I_cling_module_9'!\n",
      "You are probably missing the definition of caffe2::TypeMeta::error_unsupported_typemeta(caffe2::TypeMeta)\n",
      "Maybe you need to load the corresponding shared library?\n",
      "IncrementalExecutor::executeFunction: symbol '_ZN2at5printERSoRKNS_6TensorEl' unresolved while linking function '_GLOBAL__sub_I_cling_module_9'!\n",
      "You are probably missing the definition of at::print(std::ostream&, at::Tensor const&, long)\n",
      "Maybe you need to load the corresponding shared library?\n",
      "IncrementalExecutor::executeFunction: symbol '_ZTVN3c1021AutogradMetaInterfaceE' unresolved while linking function '_GLOBAL__sub_I_cling_module_9'!\n",
      "You are probably missing the definition of vtable for c10::AutogradMetaInterface\n",
      "Maybe you need to load the corresponding shared library?\n",
      "IncrementalExecutor::executeFunction: symbol '_ZTVN5torch8autograd12AutogradMetaE' unresolved while linking function '_GLOBAL__sub_I_cling_module_9'!\n",
      "You are probably missing the definition of vtable for torch::autograd::AutogradMeta\n",
      "Maybe you need to load the corresponding shared library?\n",
      "IncrementalExecutor::executeFunction: symbol '_ZN2at4_ops4rand4callEN3c108ArrayRefINS2_6SymIntEEENS2_8optionalINS2_10ScalarTypeEEENS6_INS2_6LayoutEEENS6_INS2_6DeviceEEENS6_IbEE' unresolved while linking function '_GLOBAL__sub_I_cling_module_9'!\n",
      "You are probably missing the definition of at::_ops::rand::call(c10::ArrayRef<c10::SymInt>, c10::optional<c10::ScalarType>, c10::optional<c10::Layout>, c10::optional<c10::Device>, c10::optional<bool>)\n",
      "Maybe you need to load the corresponding shared library?\n",
      "IncrementalExecutor::executeFunction: symbol '_ZN3c104impl23ExcludeDispatchKeyGuardC1ENS_14DispatchKeySetE' unresolved while linking function '_GLOBAL__sub_I_cling_module_9'!\n",
      "You are probably missing the definition of c10::impl::ExcludeDispatchKeyGuard::ExcludeDispatchKeyGuard(c10::DispatchKeySet)\n",
      "Maybe you need to load the corresponding shared library?\n",
      "IncrementalExecutor::executeFunction: symbol '_ZN3c1021AutogradMetaInterfaceD2Ev' unresolved while linking function '_GLOBAL__sub_I_cling_module_9'!\n",
      "You are probably missing the definition of c10::AutogradMetaInterface::~AutogradMetaInterface()\n",
      "Maybe you need to load the corresponding shared library?\n",
      "IncrementalExecutor::executeFunction: symbol '_ZN3c1010TensorImpl17set_autograd_metaESt10unique_ptrINS_21AutogradMetaInterfaceESt14default_deleteIS2_EE' unresolved while linking function '_GLOBAL__sub_I_cling_module_9'!\n",
      "You are probably missing the definition of c10::TensorImpl::set_autograd_meta(std::unique_ptr<c10::AutogradMetaInterface, std::default_delete<c10::AutogradMetaInterface> >)\n",
      "Maybe you need to load the corresponding shared library?\n"
     ]
    }
   ],
   "source": [
    "torch::Tensor tensor = torch::rand({2, 3});\n",
    "std::cout << tensor << std::endl;"
   ]
  },
  {
   "cell_type": "code",
   "execution_count": 4,
   "id": "4b036f95-757f-4130-8a1f-781f9ac03cb9",
   "metadata": {},
   "outputs": [
    {
     "name": "stdout",
     "output_type": "stream",
     "text": [
      "learn-torch.ipynb\n",
      "playground.ipynb\n"
     ]
    }
   ],
   "source": [
    "!ls"
   ]
  },
  {
   "cell_type": "code",
   "execution_count": null,
   "id": "6b3f9d72-86a4-4c2e-9ea1-8c043a9007ca",
   "metadata": {},
   "outputs": [],
   "source": []
  }
 ],
 "metadata": {
  "kernelspec": {
   "display_name": "C++17",
   "language": "C++17",
   "name": "xcpp17"
  },
  "language_info": {
   "codemirror_mode": "text/x-c++src",
   "file_extension": ".cpp",
   "mimetype": "text/x-c++src",
   "name": "c++",
   "version": "17"
  }
 },
 "nbformat": 4,
 "nbformat_minor": 5
}
