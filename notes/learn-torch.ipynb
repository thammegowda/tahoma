{
 "cells": [
  {
   "cell_type": "code",
   "execution_count": 4,
   "id": "6cf0dd29-ae02-46f0-8542-f132a3af2654",
   "metadata": {},
   "outputs": [],
   "source": [
    "#include<iostream>\n",
    "#include<string>\n",
    "\n",
    "using namespace std;"
   ]
  },
  {
   "cell_type": "code",
   "execution_count": 5,
   "id": "f9b0eb53-8247-478d-90dd-45e45eaf9df9",
   "metadata": {},
   "outputs": [
    {
     "name": "stdout",
     "output_type": "stream",
     "text": [
      "10  Hello"
     ]
    }
   ],
   "source": [
    "int x =10;\n",
    "cout << x;\n",
    "cout << \"  Hello\";"
   ]
  },
  {
   "cell_type": "code",
   "execution_count": 6,
   "id": "172d5aca-342f-4939-b54b-3bf84592b959",
   "metadata": {},
   "outputs": [
    {
     "name": "stderr",
     "output_type": "stream",
     "text": [
      "\u001b[1minput_line_13:1:10: \u001b[0m\u001b[0;1;31mfatal error: \u001b[0m\u001b[1m'torch/torch.h' file not found\u001b[0m\n",
      "#include <torch/torch.h>\n",
      "\u001b[0;1;32m         ^~~~~~~~~~~~~~~\n",
      "\u001b[0m"
     ]
    },
    {
     "ename": "Interpreter Error",
     "evalue": "",
     "output_type": "error",
     "traceback": [
      "Interpreter Error: "
     ]
    }
   ],
   "source": [
    "#include <torch/torch.h>"
   ]
  },
  {
   "cell_type": "code",
   "execution_count": 27,
   "id": "77e6ae7b-21c7-4d0d-8ff1-650560f5f58c",
   "metadata": {},
   "outputs": [
    {
     "name": "stdout",
     "output_type": "stream",
     "text": [
      "torch\n"
     ]
    }
   ],
   "source": [
    "!ls libs/libtorch/include/torch/csrc/api/include/"
   ]
  },
  {
   "cell_type": "code",
   "execution_count": 30,
   "id": "a751ddbe-2ff9-43bc-8893-13d0ce816d1d",
   "metadata": {},
   "outputs": [
    {
     "name": "stdout",
     "output_type": "stream",
     "text": [
      "libs/libtorch/lib/libtorchbind_test.so\n",
      "libs/libtorch/lib/libtorch_cpu.so\n",
      "libs/libtorch/lib/libtorch_global_deps.so\n",
      "libs/libtorch/lib/libtorch_python.so\n",
      "libs/libtorch/lib/libtorch.so\n"
     ]
    }
   ],
   "source": [
    "!ls libs/libtorch/lib/libtorch*.so"
   ]
  },
  {
   "cell_type": "code",
   "execution_count": 1,
   "id": "fff2680f-8a2b-43a8-a0cb-a33eeba9e4e3",
   "metadata": {},
   "outputs": [],
   "source": [
    "// add headers\n",
    "#pragma cling add_include_path(\"libs/libtorch/include/torch/csrc/api/include\")\n",
    "#pragma cling add_include_path(\"libs/libtorch/include/\")\n",
    "// add precompiled libtorch*.so files\n",
    "#pragma cling add_library_path(\"libs/libtorch/lib/\")\n",
    "// load libtorch\n",
    "#pragma cling load(\"libtorch\")"
   ]
  },
  {
   "cell_type": "code",
   "execution_count": null,
   "id": "94ada93b-a2eb-499a-8c2c-72305df87591",
   "metadata": {},
   "outputs": [],
   "source": [
    "#include <iostream>\n",
    "#include <torch/torch.h>\n",
    "using namespace std;\n",
    "\n",
    "cout << \"Hello World\";"
   ]
  },
  {
   "cell_type": "code",
   "execution_count": null,
   "id": "1595a58a-f08f-4891-ba2d-05afdb77d750",
   "metadata": {},
   "outputs": [],
   "source": [
    "torch::Tensor tensor = torch::rand({2, 3});\n",
    "std::cout << tensor << std::endl;"
   ]
  },
  {
   "cell_type": "code",
   "execution_count": null,
   "id": "4b036f95-757f-4130-8a1f-781f9ac03cb9",
   "metadata": {},
   "outputs": [],
   "source": []
  }
 ],
 "metadata": {
  "kernelspec": {
   "display_name": "C++17",
   "language": "C++17",
   "name": "xcpp17"
  },
  "language_info": {
   "codemirror_mode": "text/x-c++src",
   "file_extension": ".cpp",
   "mimetype": "text/x-c++src",
   "name": "c++",
   "version": "17"
  }
 },
 "nbformat": 4,
 "nbformat_minor": 5
}
