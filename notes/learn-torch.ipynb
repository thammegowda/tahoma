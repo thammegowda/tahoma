{
 "cells": [
  {
   "cell_type": "markdown",
   "id": "29c0ee05-6df2-42e5-8866-1457a0b139ec",
   "metadata": {},
   "source": [
    "# Learn libTorch \n",
    "Learn libTorch C++ API in an interactive notebook environment\n",
    "\n",
    "This notebook should be run in C++ kernel e.g. https://github.com/jupyter-xeus/xeus-cling \n",
    "\n",
    "\n",
    "## Setup\n",
    "\n",
    "```bash\n",
    "mamba create -n cling\n",
    "mamba activate cling\n",
    "mamba install xeus-cling jupyterlab -c conda-forge\n",
    "```\n",
    "\n",
    "\n",
    "`mamba` is a C++ implementation of `conda`. If you dont have `mamba` already,\n"
   ]
  },
  {
   "cell_type": "code",
   "execution_count": 1,
   "id": "6cf0dd29-ae02-46f0-8542-f132a3af2654",
   "metadata": {},
   "outputs": [],
   "source": [
    "#include<iostream>\n",
    "#include<string>\n",
    "\n",
    "//using namespace std;"
   ]
  },
  {
   "cell_type": "code",
   "execution_count": 2,
   "id": "f9b0eb53-8247-478d-90dd-45e45eaf9df9",
   "metadata": {},
   "outputs": [
    {
     "name": "stdout",
     "output_type": "stream",
     "text": [
      "10  Hello"
     ]
    }
   ],
   "source": [
    "int x =10;\n",
    "std::cout << x;\n",
    "std::cout << \"  Hello\";"
   ]
  },
  {
   "cell_type": "code",
   "execution_count": 3,
   "id": "172d5aca-342f-4939-b54b-3bf84592b959",
   "metadata": {},
   "outputs": [
    {
     "name": "stderr",
     "output_type": "stream",
     "text": [
      "\u001b[1minput_line_10:1:10: \u001b[0m\u001b[0;1;31mfatal error: \u001b[0m\u001b[1m'torch/torch.h' file not found\u001b[0m\n",
      "#include <torch/torch.h>\n",
      "\u001b[0;1;32m         ^~~~~~~~~~~~~~~\n",
      "\u001b[0m"
     ]
    },
    {
     "ename": "Interpreter Error",
     "evalue": "",
     "output_type": "error",
     "traceback": [
      "Interpreter Error: "
     ]
    }
   ],
   "source": [
    "#include <torch/torch.h>"
   ]
  },
  {
   "cell_type": "code",
   "execution_count": 3,
   "id": "77e6ae7b-21c7-4d0d-8ff1-650560f5f58c",
   "metadata": {},
   "outputs": [
    {
     "name": "stdout",
     "output_type": "stream",
     "text": [
      "torch\n"
     ]
    }
   ],
   "source": [
    "!ls ../libs/libtorch-cpu/include/torch/csrc/api/include/"
   ]
  },
  {
   "cell_type": "code",
   "execution_count": 4,
   "id": "a751ddbe-2ff9-43bc-8893-13d0ce816d1d",
   "metadata": {},
   "outputs": [
    {
     "name": "stdout",
     "output_type": "stream",
     "text": [
      "../libs/libtorch-cpu/lib/libtorchbind_test.so\n",
      "../libs/libtorch-cpu/lib/libtorch_cpu.so\n",
      "../libs/libtorch-cpu/lib/libtorch_global_deps.so\n",
      "../libs/libtorch-cpu/lib/libtorch_python.so\n",
      "../libs/libtorch-cpu/lib/libtorch.so\n"
     ]
    }
   ],
   "source": [
    "!ls ../libs/libtorch-cpu/lib/libtorch*.so"
   ]
  },
  {
   "cell_type": "code",
   "execution_count": 5,
   "id": "fff2680f-8a2b-43a8-a0cb-a33eeba9e4e3",
   "metadata": {},
   "outputs": [
    {
     "name": "stdout",
     "output_type": "stream",
     "text": [
      "Added paths"
     ]
    }
   ],
   "source": [
    "#include<iostream>\n",
    "#include<string>\n",
    "\n",
    "//using namespace std;    //NOTE: dont expose std namespace, it \n",
    "\n",
    "// add headers\n",
    "#pragma cling add_include_path(\"../libs/libtorch-cpu/include/torch/csrc/api/include\")\n",
    "#pragma cling add_include_path(\"../libs/libtorch-cpu/include/\")\n",
    "// add precompiled libtorch*.so files\n",
    "#pragma cling add_library_path(\"../libs/libtorch-cpu/lib/\")\n",
    "std::cout << \"Added paths\";"
   ]
  },
  {
   "cell_type": "code",
   "execution_count": 6,
   "id": "17770302-abe0-45b8-9480-a67bf7806268",
   "metadata": {},
   "outputs": [
    {
     "name": "stdout",
     "output_type": "stream",
     "text": [
      "Loaded"
     ]
    }
   ],
   "source": [
    "// load libtorch   -- this causes LLVM out of memory\n",
    "#pragma cling load(\"libtorch.so\")\n",
    "std::cout << \"Loaded\";"
   ]
  },
  {
   "cell_type": "code",
   "execution_count": 7,
   "id": "94ada93b-a2eb-499a-8c2c-72305df87591",
   "metadata": {},
   "outputs": [
    {
     "name": "stdout",
     "output_type": "stream",
     "text": [
      "Hello World"
     ]
    }
   ],
   "source": [
    "#include <iostream>\n",
    "#include <torch/torch.h>\n",
    "// might take some time to import torch.h\n",
    "\n",
    "std::cout << \"Hello World\";"
   ]
  },
  {
   "cell_type": "code",
   "execution_count": 8,
   "id": "1595a58a-f08f-4891-ba2d-05afdb77d750",
   "metadata": {},
   "outputs": [
    {
     "name": "stdout",
     "output_type": "stream",
     "text": [
      " 0.8208  0.2259  0.9494\n",
      " 0.4685  0.6127  0.2906\n",
      "[ CPUFloatType{2,3} ]\n"
     ]
    }
   ],
   "source": [
    "torch::Tensor tensor = torch::rand({2, 3});\n",
    "std::cout << tensor << std::endl;"
   ]
  },
  {
   "cell_type": "code",
   "execution_count": 9,
   "id": "4b036f95-757f-4130-8a1f-781f9ac03cb9",
   "metadata": {},
   "outputs": [
    {
     "name": "stdout",
     "output_type": "stream",
     "text": [
      "learn-torch.ipynb\n"
     ]
    }
   ],
   "source": [
    "!ls"
   ]
  },
  {
   "cell_type": "code",
   "execution_count": null,
   "id": "6b3f9d72-86a4-4c2e-9ea1-8c043a9007ca",
   "metadata": {},
   "outputs": [],
   "source": []
  }
 ],
 "metadata": {
  "kernelspec": {
   "display_name": "C++17",
   "language": "C++17",
   "name": "xcpp17"
  },
  "language_info": {
   "codemirror_mode": "text/x-c++src",
   "file_extension": ".cpp",
   "mimetype": "text/x-c++src",
   "name": "c++",
   "version": "17"
  }
 },
 "nbformat": 4,
 "nbformat_minor": 5
}
